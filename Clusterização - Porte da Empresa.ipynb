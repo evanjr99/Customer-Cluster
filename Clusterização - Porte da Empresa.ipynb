{
 "cells": [
  {
   "cell_type": "markdown",
   "id": "74f7252c",
   "metadata": {},
   "source": [
    "# Importar bibliotecas"
   ]
  },
  {
   "cell_type": "code",
   "execution_count": 118,
   "id": "06569970",
   "metadata": {},
   "outputs": [],
   "source": [
    "import pandas as pd\n",
    "pd.set_option('display.max_rows', 300)\n",
    "pd.set_option('display.max_columns', 100)\n",
    "pd.set_option('display.float_format', lambda x: '%.3f' % x)# Removendo notações científicas\n",
    "import requests, json\n",
    "from Conexão_Banco_de_Dados_Oracle import conectar_bd\n",
    "import matplotlib.pyplot as plt\n",
    "import seaborn as sns\n",
    "import numpy as np\n",
    "np.set_printoptions(suppress=False) # Removendo notações científicas\n",
    "from pycep_correios import get_address_from_cep, WebService\n",
    "import math\n",
    "from datetime import datetime\n",
    "\n",
    "# Remover warnings dos kernels\n",
    "import warnings\n",
    "warnings.filterwarnings('ignore')"
   ]
  },
  {
   "cell_type": "markdown",
   "id": "2f67b509",
   "metadata": {},
   "source": [
    "# Conectar ao banco de dados (cursor)"
   ]
  },
  {
   "cell_type": "code",
   "execution_count": 119,
   "id": "bbefa61b",
   "metadata": {},
   "outputs": [],
   "source": [
    "conn = conectar_bd()\n",
    "cursor = conn.cursor()"
   ]
  },
  {
   "cell_type": "markdown",
   "id": "6a2f6a11",
   "metadata": {},
   "source": [
    "# Extrair informações dos clientes via banco de dados"
   ]
  },
  {
   "cell_type": "code",
   "execution_count": 120,
   "id": "fc5dee06",
   "metadata": {},
   "outputs": [],
   "source": [
    "# Dados cadastrais\n",
    "cons_empresas_cadastradas = '''\n",
    "SELECT \n",
    "    a.CODEMPRESA, a.RAZAOSOCIAL, a.NOMEFANTASIA, \n",
    "    d.CEP, d.NUMCNPJCPF\n",
    "FROM HINOERP_BIO.GEEMPRESA a\n",
    "    LEFT JOIN HINOERP_BIO.GEEMPRESAPARAMESTAB b\n",
    "        ON a.CODEMPRESA = b.CODEMPRESA\n",
    "    LEFT JOIN HINOERP_BIO.GEENDEMPRESA c\n",
    "        ON a.CODEMPRESA = c.CODEMPRESA\n",
    "    LEFT JOIN HINOERP_BIO.GEENDERECO d\n",
    "        ON c.CODENDERECO = d.CODENDERECO\n",
    "    WHERE TIPOEMPRESA = 'C' AND LENGTH(d.NUMCNPJCPF) = 14\n",
    "'''\n",
    "df_empresas_cadastradas = pd.read_sql(cons_empresas_cadastradas, conn)\n",
    "\n",
    "# Retornando data de cadastro das empresas\n",
    "cons = '''\n",
    "SELECT e.DATALOG as DATACADASTRO, PARA AS CODEMPRESA\n",
    "FROM HINOERP_BIO.GELOG E\n",
    "LEFT JOIN HINOERP_BIO.GELOGDET b\n",
    "ON E.CODLOG = b.CODLOG\n",
    "WHERE TABELA = 'GEEMPRESA' AND CAMPO = 'Cód. Empresa' AND DE IS NULL\n",
    "'''\n",
    "datas_cadastros = pd.read_sql(cons, conn)\n",
    "datas_cadastros['CODEMPRESA'] = datas_cadastros['CODEMPRESA'].astype(int)\n",
    "\n",
    "# Merge das informações\n",
    "df_empresas_cadastradas = df_empresas_cadastradas.merge(datas_cadastros, on='CODEMPRESA', how='left')\n",
    "\n",
    "# Dados financeiros\n",
    "cons_dados_financeiros = '''\n",
    "SELECT \n",
    "    e.CODEMPRESA, \n",
    "    SUM(e.VALORORIGINAL) AS TOTALVENDAS, \n",
    "    AVG(e.VALORJUROS) AS MEDIAJUROS, \n",
    "    AVG(e.DATALIQUIDACAO - e.DATAVENCIMENTO) AS DIASATRASO\n",
    "FROM HINOERP_BIO.FITITULOS e\n",
    "WHERE e.INDICENFSAIDA IS NOT NULL\n",
    "GROUP BY CODEMPRESA\n",
    "'''\n",
    "\n",
    "df_titulos = pd.read_sql(cons_dados_financeiros, conn)\n",
    "\n",
    "# Unindo as informações\n",
    "df = df_empresas_cadastradas.merge(df_titulos, on='CODEMPRESA', how='left').fillna(0)\n",
    "df.index = [i for i in range(df.shape[0])]"
   ]
  },
  {
   "cell_type": "markdown",
   "id": "3bc2092d",
   "metadata": {},
   "source": [
    "# Extrair informações extras dos clientes via request"
   ]
  },
  {
   "cell_type": "code",
   "execution_count": 121,
   "id": "ee7a9817",
   "metadata": {},
   "outputs": [],
   "source": [
    "# Função de extração de dados do CNPJ\n",
    "def _dados_cnpj(cnpj):\n",
    "    return json.loads(requests.get(f'https://thecollector.linkana.com/companies?cnpj=eq.{cnpj}&limit=1%27').text)[0]\n",
    "\n",
    "# Buscando informações de geolocalização\n",
    "def busca_geolocation(cep):\n",
    "    try:\n",
    "        # Ajustar para parametro de pesquisa URL\n",
    "        '''\n",
    "        Obs: Foi acrescentado o replace para Bonfim Paulista pois era uma exceção que estava ocasionando erros \"desenecessários\"\n",
    "        '''\n",
    "        r = lambda x: x.replace('Bonfim Paulista (Ribeirão Preto)', 'Ribeirão Preto').replace(' ', '+')\n",
    "\n",
    "        URL = \"https://nominatim.openstreetmap.org/search?format=json&addressdetails=1&country=$brazil&state=${}&city=${}&limit=1\"\n",
    "        infos = get_address_from_cep(cep, webservice=WebService.CORREIOS)\n",
    "        dados_cep = json.loads(requests.get(URL.format(infos['uf'], r(infos['cidade']))).text)[0]\n",
    "\n",
    "        return (dados_cep['lat'], dados_cep['lon'], dados_cep['importance'], dados_cep['address']['state_district'])\n",
    "    except:\n",
    "        return (np.nan, np.nan, np.nan, np.nan)"
   ]
  },
  {
   "cell_type": "code",
   "execution_count": 122,
   "id": "4cf9ede8",
   "metadata": {},
   "outputs": [
    {
     "data": {
      "text/plain": [
       "(nan, nan, nan, nan)"
      ]
     },
     "execution_count": 122,
     "metadata": {},
     "output_type": "execute_result"
    }
   ],
   "source": [
    "# Teste função de geolocalização\n",
    "busca_geolocation('44025930')"
   ]
  },
  {
   "cell_type": "code",
   "execution_count": null,
   "id": "2777ca83",
   "metadata": {},
   "outputs": [
    {
     "name": "stdout",
     "output_type": "stream",
     "text": [
      "1 / 451 - GETMED - DISTRIBUIDORA MEDICO HOSPITALAR LTDA - Região Geográfica Intermediária de Bauru\n",
      "2 / 451 - ORION COMERCIO DE PRODUTOS MEDICOS LTDA - Região Geográfica Intermediária de Belo Horizonte\n",
      "3 / 451 - OSTEO SOLUTION - COMERCIO, IMPORTACAO E EXPORTACAO DE ARTIGO - Região Geográfica Intermediária de São Paulo\n",
      "4 / 451 - PATMUS PRODUTOS MEDICOS E HOSPITALARES LTDA - Região Geográfica Intermediária do Rio de Janeiro\n",
      "5 / 451 - RADIOMED COMERCIO E IMPORTACAO LTDA - Região Geográfica Intermediária de São Paulo\n",
      "6 / 451 - SURGICAL TEC COMERCIO DE PRODUTOS HOSPITALARES LTDA - Região Geográfica Intermediária de Cuiabá\n",
      "7 / 451 - 4 IDEA COMERCIO, IMPORTACAO E EXPORTACAO DE PRODUTOS MEDICOS - Região Geográfica Intermediária de Campinas\n",
      "8 / 451 - LIFE SPINE IMPLANTES LTDA - Região Geográfica Intermediária de São Paulo\n",
      "9 / 451 - LIGHT CARE COMERCIO DE PRODUTOS MEDICOS E HOSPITALARES EIREL - Região Geográfica Intermediária de São Paulo\n",
      "10 / 451 - ORTOMUNDI COMERCIO DE MATERIAIS MEDICO CIRURGICOS LTDA - Região Geográfica Intermediária de São Paulo\n",
      "11 / 451 - ORTOMED COMERCIO EIRELI - Região Geográfica Intermediária de Belo Horizonte\n",
      "12 / 451 - R5 DISTRIBUIDORA E REPRESENTACAO DE IMPLANTES ORTOPEDICOS LT - Região Geográfica Intermediária de Campinas\n",
      "13 / 451 - HJE MEDICAL LTDA - Região Geográfica Intermediária de Goiânia\n",
      "14 / 451 - VETTORE COMERCIO DE MATERIAIS MEDICOS LTDA - Região Geográfica Intermediária do Distrito Federal\n",
      "15 / 451 - HAKA CIRURGICA LTDA - Região Geográfica Intermediária de Ribeirão Preto\n",
      "16 / 451 - NUVAX COMERCIO DE MATERIAIS CIRURGICOS LTDA - Região Geográfica Intermediária de Sorocaba\n",
      "17 / 451 - ANGEL CARE SOLUCOES E INOVACOES PARA MEDICINA LTDA - Região Geográfica Intermediária de São Paulo\n",
      "18 / 451 - TRAUMINAS DISTRIBUIDORA DE MATERIAIS CIRURGICOS HOSPITALARES - Região Geográfica Intermediária de Belo Horizonte\n",
      "19 / 451 - BIO 2 IMP E COM DE MAT MED HOSPITALARES - Região Geográfica Intermediária de São Paulo\n",
      "20 / 451 - FDS COM. DE MATERIAL HOSPITALAR LTDA ME - Região Geográfica Intermediária do Rio de Janeiro\n",
      "21 / 451 - ANA PAULA MARQUES CUNHA EIRELI - Região Geográfica Intermediária de Santarém\n",
      "22 / 451 - SAO PAULO SURGICAL COMERCIO DE MATERIAL HOSPITALAR LTDA - Região Geográfica Intermediária de São Paulo\n",
      "23 / 451 - OPERA MATERIAIS CIRURGICOS LTDA - Região Geográfica Intermediária de João Pessoa\n",
      "24 / 451 - EASY INTER- MEDICAL SOLUCOES PARA MEDICINA LTDA - Região Geográfica Intermediária de Vitória\n",
      "25 / 451 - SAFE IMPLANTES, PRODUTOS MEDICOS, HOSPITALARES LTDA EPP - Região Geográfica Intermediária do Distrito Federal\n",
      "26 / 451 - LITORAL MEDIC COMERCIO, DISTRIBUIÇÃO E LOCAÇÃO DE MATERIAIS - Região Geográfica Intermediária de São Paulo\n",
      "27 / 451 - SD-IMPLANT-DISTRIBUIDORA DE PRODUTOS MEDICOS, HOSPITALARES, - Região Geográfica Intermediária de São Paulo\n",
      "28 / 451 - LAVITAL MATERIAIS CIRURGICOS EIRELI - Região Geográfica Intermediária de Belo Horizonte\n",
      "29 / 451 - OPME SOLUTION COMERCIO, IMPORTAÇÃO E EXPORTAÇÃO DE EQUIPAMEN - Região Geográfica Intermediária de Campinas\n",
      "30 / 451 - PLUS MED DISTRIBUIDORA E IMPORTADORA DE PRODUTOS MEDICOS LTD - Região Geográfica Intermediária do Rio de Janeiro\n",
      "31 / 451 - BIO LIFE SURGICAL COMERCIO IMPORTACAO E EXPORTACAO DE PRODUT - Região Geográfica Intermediária de São Paulo\n",
      "32 / 451 - RIO SURGICAL COMERCIO DE MATERIAL HOSPITALAR LTDA - Região Geográfica Intermediária de Macaé-Rio das Ostras-Cabo Frio\n",
      "33 / 451 - ROVER DISTRIBUIDORA DE PRODUTOS PARA SAUDE EIRELI - Região Geográfica Intermediária de São Paulo\n",
      "34 / 451 - RPM COMERCIO DE MATERIAL HOSPITALAR LTDA - Região Geográfica Intermediária do Rio de Janeiro\n",
      "35 / 451 - RR PARAFUSOS,FERRAGENS E FERRAMENTAS LTD - Região Geográfica Intermediária de Campinas\n",
      "36 / 451 - SAFE MEDICAL PRODUTOS HOSPITALARES LTDA ME - Região Geográfica Intermediária de Campo Grande\n",
      "37 / 451 - SAFEMEDIC PROD.MEDICOS HOSPITALARES LTDA EPP - Região Geográfica Intermediária do Recife\n",
      "38 / 451 - SCHOBELL INDUSTRIAL LTDA - Região Geográfica Intermediária de Campinas\n",
      "39 / 451 - SIGMA COMERCIO E LOCACAO DE MATERIAIS CIRURGICOS EIRELI - Região Geográfica Intermediária de São Paulo\n",
      "40 / 451 - SINNERGY IMPORTACAO E EXPORTACAO LTDA - Região Geográfica Intermediária de São Paulo\n",
      "41 / 451 - SINTEX MEDICAL IMPLANT BIOMEDICA COMERCIAL LTDA - Região Geográfica Intermediária do Rio de Janeiro\n",
      "42 / 451 - SIRIUS MEDICAL, COMERCIO DE PRODUTOS MEDICOS LTDA - Região Geográfica Intermediária do Distrito Federal\n",
      "43 / 451 - SOLUCAO IMPLANTES ART.MEDICOS HOSPITALARES LTDA - Região Geográfica Intermediária de Porto Velho\n",
      "44 / 451 - SOLUTION ORTHOPEDIC EQUIPAMENTOS MEDICOS LTDA - Região Geográfica Intermediária de Campinas\n",
      "45 / 451 - SOMUS COMERCIO DE PRODUTOS MEDICOS LTDA EPP - Região Geográfica Intermediária de Campo Grande\n",
      "46 / 451 - SP INTERVENTION LTDA - Região Geográfica Intermediária de São Paulo\n",
      "47 / 451 - SP OSTEO DISTRIBUIDORA DE PRODUTOS PARA A SAUDE LTDA - ME - Região Geográfica Intermediária de São Paulo\n",
      "48 / 451 - SPINE HEAD COM. DE PRODUTOS HOSPITALARES LTDA ME - Região Geográfica Intermediária de São Paulo\n",
      "49 / 451 - SPINE HEALTH REPRESENTACAO IMP.E DIST.MAT. HOSPITALARES EIRE - Região Geográfica Intermediária de Campinas\n",
      "50 / 451 - SPINE SYS IMP. EXP. E COM. DE IMPLANTES ORTOPEDICOS LTDA - Região Geográfica Intermediária de Campinas\n",
      "51 / 451 - SPM COMERCIO DE PRODUTOS MEDICOS EIRELI - Região Geográfica Intermediária de São Paulo\n",
      "52 / 451 - STARK COMERCIAL ODONTO-MEDICA LTDA - Região Geográfica Intermediária de São Paulo\n",
      "53 / 451 - STARMED SAUDE E COMERCIO EIRELI ME - Região Geográfica Intermediária de Vitória\n",
      "54 / 451 - STEEL SURGICAL COMERCIO DE MATERIAIS CIRURGICOS LTDA - Região Geográfica Intermediária de São Paulo\n",
      "55 / 451 - SUMMIT ORTHOPEDICS COM. IMP. E EXP. DE PROD. MED. E IMP. ORT - Região Geográfica Intermediária de Sorocaba\n",
      "56 / 451 - SURGICAL MED MATERIAIS HOSPITALARES LTDA - Região Geográfica Intermediária de Salvador\n",
      "57 / 451 - SURGICARE COMERCIO DE PRODUTOS CIRURGICOS LTDA EPP - Região Geográfica Intermediária de Campinas\n",
      "58 / 451 - TECNO TOOLS FERRAMENTAS E ABRASIVOS LTDA - Região Geográfica Intermediária de Sorocaba\n",
      "59 / 451 - TG COMERCIO E IMPORTACAO DE MATERIAL MEDICO LTDA - Região Geográfica Intermediária de São Luís\n",
      "60 / 451 - TOP SURGICAL COMERCIO DE MATERIAIS CIRURGICOS LTDA - Região Geográfica Intermediária de São Paulo\n",
      "61 / 451 - UNIAO MEDICA COMERCIO DE PRODUTOS HOSPITALARES LTDA - EPP - Região Geográfica Intermediária do Distrito Federal\n",
      "62 / 451 - UNIDADE DE ESTERILIZACAO COTIA - Região Geográfica Intermediária de São Paulo\n",
      "63 / 451 - UNIDRIVE EQUIP. ELETRONICOS E COM. SERV - Região Geográfica Intermediária de São Paulo\n",
      "64 / 451 - UNIMEK S/A - Região Geográfica Intermediária do Distrito Federal\n",
      "65 / 451 - VERITAS COMERCIO DE PRODUTOS MEDICOS HOSPITALARES LTDA ME - Região Geográfica Intermediária de São Paulo\n",
      "66 / 451 - VERTICAL RIO COM. DE PRODUTOS MEDICOS LTDA - Região Geográfica Intermediária do Rio de Janeiro\n",
      "67 / 451 - VERTICE COMERCIO DE MATERIAIS MEDICOS E HOSPITALARES LTDA - Região Geográfica Intermediária de São Paulo\n",
      "68 / 451 - VICENTE COSTA PRODUTOS MEDICOS HOSPITALARES LTDA ME - Região Geográfica Intermediária de Vitória\n",
      "69 / 451 - VINCULA INDUSTRIA COMERCIO IMPORTACAO E EXP. DE IMPLANTES SA - Região Geográfica Intermediária de Campinas\n",
      "70 / 451 - VISCAGI SERVICOS DE TRATAMENTO DE PECAS - Região Geográfica Intermediária de Campinas\n",
      "71 / 451 - VITAL MATERIAIS ESPECIAIS EIRELI - Região Geográfica Intermediária de Salvador\n",
      "72 / 451 - VITAL PRODUTOS MEDICOS HOSPITALARES LTDA - Região Geográfica Intermediária de Porto Alegre\n",
      "73 / 451 - VITTA MEDI PRODUTOS MEDICOS EIRELI - Região Geográfica Intermediária de Londrina\n",
      "74 / 451 - WORK LIFE COM. DE PRODUTOS MEDICOS LTDA - Região Geográfica Intermediária de São Paulo\n",
      "75 / 451 - XOMED SERVICOS E COM. DE PRODUTOS CIRURGICOS LTDA - Região Geográfica Intermediária de São Paulo\n",
      "76 / 451 - X-SAFE COMERCIO DE PRODUTOS MEDICOS HOSPITALARES LTDA EPP - Região Geográfica Intermediária de São Paulo\n",
      "77 / 451 - ATUAL COMERCIO E REP. DE PRODUTOS MEDICOS EIRELI - Região Geográfica Intermediária do Recife\n",
      "78 / 451 - MEDICAL LIFE COM. EIRELI - Região Geográfica Intermediária de Belo Horizonte\n",
      "79 / 451 - MEDICAL SUPPORT MATERIAIS MEDICOS E HOSP. LTDA - Região Geográfica Intermediária de Ribeirão Preto\n"
     ]
    },
    {
     "name": "stdout",
     "output_type": "stream",
     "text": [
      "80 / 451 - OCTOMED COMERCIO DE PRODUTOS MEDICOS LTDA - Região Geográfica Intermediária de São Paulo\n",
      "81 / 451 - PEGURIN COMERCIO DE PRODUTOS HOSPITALARES LTDA EPP - Região Geográfica Intermediária de Campos dos Goytacazes\n",
      "82 / 451 - SPINE LEVEL COM. IMP.E LOC. PROD. MEDICOS EIRELI - Região Geográfica Intermediária de São Paulo\n",
      "83 / 451 - TITANIUN COM DE MAT MED HOSP E SERV LTDA ME - Região Geográfica Intermediária de Cuiabá\n",
      "84 / 451 - TORIDE INDUSTRIA E COMERCIO LTDA - Região Geográfica Intermediária de Campinas\n",
      "85 / 451 - DG INOX COMERCIO DE METAIS LTDA - ME - Região Geográfica Intermediária de Campinas\n",
      "86 / 451 - MEDICAL PRIME IMP. EXP. E DISTR DE PROD MED. HOSP. - Região Geográfica Intermediária de São Paulo\n",
      "87 / 451 - MEDIC PRODUTOS CIRURGICOS EIRELI - Região Geográfica Intermediária de Belo Horizonte\n",
      "88 / 451 - NOREM PRODUTOS MEDICOS E HOSPITALARES LTDA - Região Geográfica Intermediária de Campo Grande\n",
      "89 / 451 - MARIO MEDICAL COMERCIO DE MATERIAL HOSPITALAR LTDA - Região Geográfica Intermediária de Salvador\n",
      "90 / 451 - CORTICAL COMERCIO E PRODUTOS CIRURGICO LTDA - Região Geográfica Intermediária de Ribeirão Preto\n",
      "91 / 451 - I9MED REPRESENTACOES E COMERCIO DE PRODUTOS HOSPIT - Região Geográfica Intermediária de Belém\n",
      "92 / 451 - ZEIKI MEDICAL PRODUTOS MEDICOS LTDA - Região Geográfica Intermediária do Rio de Janeiro\n",
      "93 / 451 - TRAUMACAMP COM.IMP.EXP.LOC.PROD.MED.HOSP.LTDA - Região Geográfica Intermediária de Campinas\n",
      "94 / 451 - VERTICAL DF SOLUÇÕES PARA SAÚDE LTDA - Região Geográfica Intermediária do Distrito Federal\n",
      "95 / 451 - LAM MEDICAL COMERCIO DE MATERIAIS CIRURGICOS LTDA - Região Geográfica Intermediária de São Paulo\n",
      "96 / 451 - BIO CONSERT COMERCIO DE MAT CIRURGICO DE ALTA TEC - Região Geográfica Intermediária de São Paulo\n",
      "97 / 451 - BEMMED DISTRIBUIDORA DE MATERIAL MEDICO HOSPITALAR EIRELI - Região Geográfica Intermediária de João Pessoa\n",
      "98 / 451 - DERMED SERVICOS E COMERCIO DE PRODUTOS CIRURGICOS - Região Geográfica Intermediária de São Paulo\n",
      "99 / 451 - JV MEDIC COM. DE PRODUTOS HOSPITALARES - EPP - Região Geográfica Intermediária de São Paulo\n",
      "100 / 451 - RICHARDS DO BRASIL PRODUTOS CIRURGICOS LTDA - Região Geográfica Intermediária de São Paulo\n",
      "101 / 451 - SPACE MEDICAL DISTRIBUIDORA - Região Geográfica Intermediária de Belo Horizonte\n",
      "102 / 451 - ENDOSURGICAL IMPORTACAO E COM. DE PROD. MED. LTDA. - Região Geográfica Intermediária de Campo Grande\n",
      "103 / 451 - LYON PRODUTOS PARA SAUDE LTDA EPP - Região Geográfica Intermediária do Distrito Federal\n",
      "104 / 451 - COMERCIAL COSTA GOMES - Região Geográfica Intermediária de Vitória\n",
      "105 / 451 - MEDICAL TRADE DE MARICA COM DE MATERIAL HOSPITALAR - Região Geográfica Intermediária do Rio de Janeiro\n",
      "106 / 451 - BRASMEDICA HOSPITALAR E   ORTOPEDICA LTDA - Região Geográfica Intermediária do Distrito Federal\n",
      "107 / 451 - ADA MEDICA COM. REP. PROD. MEDICOS LTDA - Região Geográfica Intermediária de São Paulo\n",
      "108 / 451 - ALFEMA DOIS MERCANTIL CIRURGICA LTDA - Região Geográfica Intermediária de Campo Grande\n",
      "109 / 451 - ALPHAMED MAT. MEDICO HOSPITALARES EIRELI - EPP - Região Geográfica Intermediária de São Paulo\n",
      "110 / 451 - AMGS COMERCIO E REPRESENTACAO LTDA - Região Geográfica Intermediária de Belo Horizonte\n",
      "111 / 451 - LIMINE PRODUTOS MEDICOS LTDA - Região Geográfica Intermediária de São Luís\n",
      "112 / 451 - ANGIOSUTURE EQUIPAMENTOS HOSPITALARES LTDA - Região Geográfica Intermediária de Vitória\n",
      "113 / 451 - AP MANGINI COMERCIO DE MATERIAL CIRURGICO LTDA - Região Geográfica Intermediária de Curitiba\n",
      "114 / 451 - ATHENA MEDIC COM. IMP. E EXP. DE PRODUTOS  HOSPITALARES LTDA - Região Geográfica Intermediária de Aracaju\n",
      "115 / 451 - ATTIS MEDICAL COMERCIO E REPRESENTACAO LTDA - Região Geográfica Intermediária de São Paulo\n",
      "116 / 451 - AUDIONORTE COMERCIO E SERVICO LTDA - Região Geográfica Intermediária de Belém\n",
      "117 / 451 - AUDTEC COM. DE APARELHOS AUDITIVOS EIRELI EPP - Região Geográfica Intermediária de Campinas\n",
      "118 / 451 - AXISTE COMERCIO DE PRODUTOS MEDICOS HOSPITALARES LTDA - Região Geográfica Intermediária do Rio de Janeiro\n",
      "119 / 451 - A2 MEDICAL SUPPLY COM. REPRESENTACAO LTDA ME - Região Geográfica Intermediária de Campinas\n",
      "120 / 451 - BARMED COMERCIO DE EQPTOD HOSPITALARES LTDA - Região Geográfica Intermediária do Rio de Janeiro\n",
      "121 / 451 - NEXOMED HOSPITALAR LTDA - Região Geográfica Intermediária de Belo Horizonte\n",
      "122 / 451 - BIOMETAL INDUSTRIA E COMERCIO EIRELI - Região Geográfica Intermediária de Campinas\n",
      "123 / 451 - BIONEURO COMERCIO DE PRODUTOS P/SAUDE LTDA EPP - Região Geográfica Intermediária de São Paulo\n",
      "124 / 451 - BIOSINTESE COM.E IMP.E MATERIAL MEDICO HOSPITALAR E IMPLANT - Região Geográfica Intermediária de Teresina\n",
      "125 / 451 - BIOSINTESE HOSPITALAR LTDA - Região Geográfica Intermediária do Rio de Janeiro\n",
      "126 / 451 - BRASIL IMPLANTES COMERCIO IMP EXP DE PROD HOSP LTDA - Região Geográfica Intermediária de São Paulo\n",
      "127 / 451 - BRASIMET PROCESSAMENTO TERMICO LTDA. - Região Geográfica Intermediária de Campinas\n",
      "128 / 451 - BREU DO B RASIL COM. DE FERRAMENTAS LTDA - Região Geográfica Intermediária de Campinas\n",
      "129 / 451 - CENIC - LABORATORIO DE ENSAIOS ESPECIAIS LTDA - ME - Região Geográfica Intermediária de Araraquara\n",
      "130 / 451 - CIRURGICA FLECHA COM.MAT.CIRURGICOS LTDA - Região Geográfica Intermediária de Ribeirão Preto\n",
      "131 / 451 - CIRURGICA TOCANTINS DISTRIB.DE PRODUTOS MEDICO HOSPITALAR LT - Região Geográfica Intermediária de Araguaína\n",
      "132 / 451 - CLASSY MED COMERCIO DE MATERIAL HOSPITALAR LTDA - Região Geográfica Intermediária do Rio de Janeiro\n",
      "133 / 451 - CGS LABORATORIO DE CALIBRACAO E METROLOGIA LTDA - Região Geográfica Intermediária de Campinas\n",
      "134 / 451 - CMC MATERIAIS CIRURGICOS E HOSPITALARES LTDA - Região Geográfica Intermediária de Santa Maria\n",
      "135 / 451 - COMERCIO  E DISTRIBUICAO ALLBORG-MED LTDA - Região Geográfica Intermediária de Juiz de Fora\n",
      "136 / 451 - CONFIANZA PRODUTOS CIRURGICOS E HOSPITALARES - Região Geográfica Intermediária de Goiânia\n",
      "137 / 451 - CRUZ ALTA PRO-HOSPITALAR LTDA - Região Geográfica Intermediária de São José do Rio Preto\n",
      "138 / 451 - DIMENSION CARE COM.IMPORTACAO E EXP.DE MAT.MED.HOSPITALAR LT - Região Geográfica Intermediária do Rio de Janeiro\n",
      "139 / 451 - DISTRIBUIDORA DE MEDICAMENTOS GUIMARAES E BRT EIRELI - Região Geográfica Intermediária de Goiânia\n",
      "140 / 451 - DMF MEDICAL MATERIAIS MEDICOS E SERVICOS EIRELI - ME - Região Geográfica Intermediária de São Paulo\n",
      "141 / 451 - DPI DISTRIBUIDORA DE IMPLANTES ORTOPEDICOS LTDA - Região Geográfica Intermediária de Campinas\n",
      "142 / 451 - ECO MEDICE DIST. DE PROD. MEDICOS HOSPITALARES EIRELI ME - Região Geográfica Intermediária do Rio de Janeiro\n",
      "143 / 451 - EDIMARA MODESTI EQUIPAMENTOS MEDICOS ME - Região Geográfica Intermediária de Campinas\n",
      "144 / 451 - ENDOCARDIO COMERCIO DE PRODUTOS MEDICOS EIRELI ME - Região Geográfica Intermediária de Cuiabá\n",
      "145 / 451 - ENGIMPLAN ENG. DE IMPLANTE INDUSTRIA E COMERCIO LTDA - Região Geográfica Intermediária de Campinas\n",
      "146 / 451 - EUROPRO COMERCIAL LTDA - Região Geográfica Intermediária de São Paulo\n",
      "147 / 451 - EXTRA CORPUS EQUIP. MEDICO HOSPITALAR LTDA - Região Geográfica Intermediária de Goiânia\n",
      "148 / 451 - FERNANDO ARMANDO DOS SANTOS JUNIOR EIRELI-ME - Região Geográfica Intermediária de Aracaju\n",
      "149 / 451 - FIXAR DIST. INSTRUMENTAL MAT.CIRURGICOS HOSPITALARES LTDA - Região Geográfica Intermediária do Recife\n",
      "150 / 451 - FIXEN MED COMERCIAL E DISTRIBUIDORA DE PRODUTOS MEDICOS LTDA - Região Geográfica Intermediária de São Paulo\n",
      "151 / 451 - FOCCUS MEDICAL EQUIPAMENTOS MEDICOS EIRELI - Região Geográfica Intermediária de São Paulo\n"
     ]
    }
   ],
   "source": [
    "# Criação de um dicionário auxiliar\n",
    "dict_aux = {\n",
    "    'Data Abertura CNPJ': [],\n",
    "    'Capital Social': [],\n",
    "    'Natureza Jurídica': [],\n",
    "    'Porte': [],\n",
    "    \"CNAE's\": [],\n",
    "    \"Latitude\": [],\n",
    "    \"Longitude\": [],\n",
    "    \"NvlImportanciaGEO\": [],\n",
    "    \"Região\": []\n",
    "}\n",
    "\n",
    "# Alimentando o dicionário auxiliar\n",
    "for i, cnpj in enumerate(df['NUMCNPJCPF']):\n",
    "    dados_consulta_cnpj = _dados_cnpj(cnpj)\n",
    "    lat, lon, importance, regiao = busca_geolocation(dados_consulta_cnpj['cep'])\n",
    "    \n",
    "    # Dados geolocalização\n",
    "    dict_aux['Latitude'].append(lat)\n",
    "    dict_aux['Longitude'].append(lon)\n",
    "    dict_aux['NvlImportanciaGEO'].append(importance)\n",
    "    dict_aux['Região'].append(regiao)\n",
    "    \n",
    "    # Dados CNPJ\n",
    "    dict_aux['Data Abertura CNPJ'].append(dados_consulta_cnpj['data_inicio_atividade'])\n",
    "    dict_aux['Capital Social'].append(str(dados_consulta_cnpj['capital_social'])[:-2])\n",
    "    dict_aux['Natureza Jurídica'].append(dados_consulta_cnpj['natureza_juridica'])\n",
    "    dict_aux['Porte'].append(dados_consulta_cnpj['cod_porte_empresa'])\n",
    "    cnaes = [dados_consulta_cnpj['cnae_fiscal']]\n",
    "    if dados_consulta_cnpj['cnaes_secundarios'] != None:\n",
    "        cnaes = cnaes + dados_consulta_cnpj['cnaes_secundarios']\n",
    "    dict_aux[\"CNAE's\"].append(cnaes)\n",
    "    \n",
    "\n",
    "    print(f'{i + 1} / {df.shape[0] } - {df[\"RAZAOSOCIAL\"][i]} - {regiao}')\n",
    "\n",
    "# Transformando o DF auxiliar em objeto Pandas e concatenando com o DF de infos baixadas\n",
    "df_aux = pd.DataFrame.from_dict(dict_aux)\n",
    "\n",
    "df = pd.concat([df, df_aux], axis=1)"
   ]
  },
  {
   "cell_type": "markdown",
   "id": "c6ce3ed0",
   "metadata": {},
   "source": [
    "# Pré-tratamento do DF"
   ]
  },
  {
   "cell_type": "code",
   "execution_count": null,
   "id": "a2503be3",
   "metadata": {},
   "outputs": [],
   "source": [
    "# Preenchendo a feature  de data de cadastro (clientes que foram cadastrados na importação)\n",
    "df['DATACADASTRO'] = df['DATACADASTRO'].fillna('2020-01-01T00:00:00')"
   ]
  },
  {
   "cell_type": "code",
   "execution_count": null,
   "id": "85e68da7",
   "metadata": {},
   "outputs": [],
   "source": [
    "# Dummies de CNAE's\n",
    "df = df.explode(\"CNAE's\")"
   ]
  },
  {
   "cell_type": "code",
   "execution_count": null,
   "id": "77c3a6a6",
   "metadata": {},
   "outputs": [],
   "source": [
    "dist_cnaes = df[\"CNAE's\"].value_counts()\n",
    "sns.barplot(dist_cnaes[:20].values, dist_cnaes[:20].index)\n",
    "print(\"Percentual  de CNAE's atendidos: \", sum(dist_cnaes[:20] / df.shape[0]))"
   ]
  },
  {
   "cell_type": "markdown",
   "id": "55deda85",
   "metadata": {},
   "source": [
    "Devido ao grande número de CNAE's, decidi por reduzir a dimensionalidade destes valores antes de tratar o DF mais a frente, mantendo apenas os top 20 CNAE's mais frequentes das empresas cadastradas."
   ]
  },
  {
   "cell_type": "code",
   "execution_count": null,
   "id": "c08e57db",
   "metadata": {},
   "outputs": [],
   "source": [
    "df = df.loc[df[\"CNAE's\"].isin(dist_cnaes[:20].index)]\n",
    "\n",
    "dummies = pd.get_dummies(df[\"CNAE's\"])\n",
    "df = df.drop(\"CNAE's\", axis=1)\n",
    "df = pd.concat([df, dummies], axis=1)\n",
    "df = df[~df.index.duplicated(keep='first')]\n",
    "df_backup = df.copy()"
   ]
  },
  {
   "cell_type": "markdown",
   "id": "7528f029",
   "metadata": {},
   "source": [
    "# I - EDA - Análise Exploratória de Dados"
   ]
  },
  {
   "cell_type": "code",
   "execution_count": null,
   "id": "f8d66607",
   "metadata": {},
   "outputs": [],
   "source": [
    "df.head()"
   ]
  },
  {
   "cell_type": "code",
   "execution_count": null,
   "id": "e23f3b97",
   "metadata": {},
   "outputs": [],
   "source": [
    "df.tail()"
   ]
  },
  {
   "cell_type": "markdown",
   "id": "82753e2a",
   "metadata": {},
   "source": [
    "## I.I - Análise estrutural"
   ]
  },
  {
   "cell_type": "code",
   "execution_count": null,
   "id": "7533c4ca",
   "metadata": {},
   "outputs": [],
   "source": [
    "rows_df = df.shape[0]\n",
    "cols_df = df.shape[1]\n",
    "print(f'Quantidade total de linhas: {rows_df}\\nQuantidade total de colunas: {cols_df}')"
   ]
  },
  {
   "cell_type": "code",
   "execution_count": null,
   "id": "a97445aa",
   "metadata": {},
   "outputs": [],
   "source": [
    "df.info()"
   ]
  },
  {
   "cell_type": "markdown",
   "id": "326ff02c",
   "metadata": {},
   "source": [
    "### Reajustando datatypes"
   ]
  },
  {
   "cell_type": "code",
   "execution_count": null,
   "id": "2db2160c",
   "metadata": {},
   "outputs": [],
   "source": [
    "df['Data Abertura CNPJ'] = pd.to_datetime(df['Data Abertura CNPJ'], format='%Y-%m-%d %H:%M:%S', errors='coerce')\n",
    "df['DATACADASTRO'] = pd.to_datetime(df['DATACADASTRO'], format='%Y-%m-%d %H:%M:%S', errors='coerce')"
   ]
  },
  {
   "cell_type": "code",
   "execution_count": null,
   "id": "3978475d",
   "metadata": {},
   "outputs": [],
   "source": [
    "df['Capital Social'].value_counts()"
   ]
  },
  {
   "cell_type": "code",
   "execution_count": null,
   "id": "1543b381",
   "metadata": {},
   "outputs": [],
   "source": [
    "df['Capital Social'] = df['Capital Social'].replace('', 0).astype(float)\n",
    "df['Porte'] = df['Porte'].astype(int)\n",
    "df['Latitude'] = df['Latitude'].astype(float)\n",
    "df['Longitude'] = df['Longitude'].astype(float)"
   ]
  },
  {
   "cell_type": "markdown",
   "id": "4da0375f",
   "metadata": {},
   "source": [
    "### Removendo colunas indesejadas\n",
    "Colunas de identificação, localização (redundante)."
   ]
  },
  {
   "cell_type": "code",
   "execution_count": null,
   "id": "36c0998a",
   "metadata": {},
   "outputs": [],
   "source": [
    "df = df.drop(['CODEMPRESA', 'RAZAOSOCIAL', 'NOMEFANTASIA', 'CEP', 'NUMCNPJCPF'], axis=1)"
   ]
  },
  {
   "cell_type": "markdown",
   "id": "e331b894",
   "metadata": {},
   "source": [
    "## I.II - Análise Qualitativa"
   ]
  },
  {
   "cell_type": "markdown",
   "id": "8fd82fa6",
   "metadata": {},
   "source": [
    "### Features categóricas"
   ]
  },
  {
   "cell_type": "code",
   "execution_count": null,
   "id": "f33a654d",
   "metadata": {},
   "outputs": [],
   "source": [
    "for feature_nn in df.dtypes[df.dtypes == object].index:\n",
    "    print(feature_nn.center(100, '*'))\n",
    "    print(f'{(sum(df[feature_nn].isna()) / rows_df) * 100:.2f}% das features são missing.')\n",
    "    print(f'Dos {sum(~df[feature_nn].isna())}, sendo distribuidos em {len(df[feature_nn].value_counts())} valores diferentes.')"
   ]
  },
  {
   "cell_type": "code",
   "execution_count": null,
   "id": "35e92843",
   "metadata": {},
   "outputs": [],
   "source": [
    "top_regioes = (df['Região'].value_counts() / rows_df)[df['Região'].value_counts() / rows_df > 0.02]"
   ]
  },
  {
   "cell_type": "code",
   "execution_count": null,
   "id": "8cc8fd09",
   "metadata": {},
   "outputs": [],
   "source": [
    "fig, ax = plt.subplots(figsize=(12, 6))\n",
    "sns.barplot(top_regioes, top_regioes.index)\n",
    "ax.set_xticklabels(ax.get_xticklabels(), rotation=45, horizontalalignment='right')\n",
    "plt.show()"
   ]
  },
  {
   "cell_type": "code",
   "execution_count": null,
   "id": "07f451c5",
   "metadata": {},
   "outputs": [],
   "source": [
    "# Substituir regiões com baixa densidade de empresas cadastradas por \"outra\" (exceto NaN's).\n",
    "df['Região'][(~df['Região'].isin(top_regioes.index)) & (~df['Região'].isna())] = 'Outra'"
   ]
  },
  {
   "cell_type": "code",
   "execution_count": null,
   "id": "c504a6d7",
   "metadata": {},
   "outputs": [],
   "source": [
    "# Análise de portes das empresas\n",
    "sns.barplot(df['Porte'].value_counts().index, df['Porte'].value_counts())"
   ]
  },
  {
   "cell_type": "code",
   "execution_count": null,
   "id": "e3937638",
   "metadata": {
    "scrolled": true
   },
   "outputs": [],
   "source": [
    "# Análise de correlação entre as duas features categóricas\n",
    "analise_ft_cat = pd.concat([pd.get_dummies(df['Porte']), df['Região']], axis=1)\n",
    "analise_ft_cat = analise_ft_cat.groupby(['Região'], as_index=False)[[1,3,5]].sum()\n",
    "analise_ft_cat['Totais'] = analise_ft_cat[[1,3,5]].sum(axis=1)\n",
    "\n",
    "df_exp = analise_ft_cat[[1,3,5]]\n",
    "somas_cols = df_exp.sum(axis=0)\n",
    "for col in df_exp:\n",
    "    percent = (somas_cols[somas_cols.index == col] /somas_cols.sum()).values[0]\n",
    "    df_exp[col] = analise_ft_cat['Totais'] * percent\n",
    "chi2 = (((df_exp - analise_ft_cat[df_exp.columns])**2) / df_exp).sum().sum()\n",
    "pearson_coef = math.sqrt(chi2/(chi2 + analise_ft_cat['Totais'].sum())) * math.sqrt(3/(3-1))\n",
    "print(f'O nível de associação, de acordo com o coeficiente de contingência de Pearson é de {pearson_coef * 100:.2f}%')"
   ]
  },
  {
   "cell_type": "markdown",
   "id": "d77d3706",
   "metadata": {},
   "source": [
    "Podemos observar que a relação entre as features são moderadamente leves."
   ]
  },
  {
   "cell_type": "code",
   "execution_count": null,
   "id": "02c76ae5",
   "metadata": {},
   "outputs": [],
   "source": [
    "# Encoding das features categóricas (exceto porte, pois se trata de uma variável categórica ordinal)"
   ]
  },
  {
   "cell_type": "code",
   "execution_count": null,
   "id": "aab82f09",
   "metadata": {},
   "outputs": [],
   "source": [
    "dummies_cat = pd.get_dummies(df[['Região', 'Natureza Jurídica']])\n",
    "df = df.drop(['Região', 'Natureza Jurídica'], axis=1)\n",
    "df = pd.concat([df, dummies_cat], axis=1)"
   ]
  },
  {
   "cell_type": "markdown",
   "id": "834739f8",
   "metadata": {},
   "source": [
    "### Features númericas"
   ]
  },
  {
   "cell_type": "markdown",
   "id": "c01737db",
   "metadata": {},
   "source": [
    "<font color=red>Tratando a feature de data de abertura do CNPJ. Decidi por tratar como tempo em atividade, onde optamos por um período anual.<font color=red>"
   ]
  },
  {
   "cell_type": "code",
   "execution_count": null,
   "id": "08dda623",
   "metadata": {},
   "outputs": [],
   "source": [
    "df['AnosAtividade'] = datetime.now() - df['Data Abertura CNPJ']\n",
    "df['AnosAtividade'] = np.round(df['AnosAtividade'].dt.days / 365, 2)\n",
    "df = df.drop('Data Abertura CNPJ', axis=1)"
   ]
  },
  {
   "cell_type": "markdown",
   "id": "008eda63",
   "metadata": {},
   "source": [
    "<font color=red>Criando nova feature para substituir a feature de total de vendas. Isto porque apenas o total de vendas não nos dá muitas informações sobre o cliente estar ou não ativo, ou ter ou não um bom volume de compras. Por isto, decidi por alterar esta feature por uma média<font color=red>"
   ]
  },
  {
   "cell_type": "code",
   "execution_count": null,
   "id": "5f12b6f2",
   "metadata": {},
   "outputs": [],
   "source": [
    "df['MédiaVendasMês'] = datetime.now() - df['DATACADASTRO']\n",
    "df['MédiaVendasMês'] = np.round(df['TOTALVENDAS'] / (df['MédiaVendasMês'].dt.days / 30), 2)\n",
    "df = df.drop(['DATACADASTRO'], axis=1)"
   ]
  },
  {
   "cell_type": "markdown",
   "id": "933bd9b1",
   "metadata": {},
   "source": [
    "- Correlações"
   ]
  },
  {
   "cell_type": "code",
   "execution_count": null,
   "id": "28700c72",
   "metadata": {},
   "outputs": [],
   "source": [
    "numericals = ['TOTALVENDAS', 'MEDIAJUROS', 'DIASATRASO', 'Capital Social', \n",
    "              'NvlImportanciaGEO', 'MédiaVendasMês', 'AnosAtividade']\n",
    "sns.heatmap(df[numericals].corr(), annot=True, vmin=-1, cmap='coolwarm_r')"
   ]
  },
  {
   "cell_type": "markdown",
   "id": "edd2660a",
   "metadata": {},
   "source": [
    "<font color=red>Como esperado, a feature de MédiaVendasMês e Total Vendas estão fortemente correlacionadas, sendo assim, iremos remover a coluna de TotalVendas. Também houve uma correlação moderada entre as colunas de DiasAtraso e MediaJuros, porém, optei por mantê-las por enquanto.<font color=red>"
   ]
  },
  {
   "cell_type": "code",
   "execution_count": null,
   "id": "fcefb8a8",
   "metadata": {},
   "outputs": [],
   "source": [
    "df = df.drop('TOTALVENDAS', axis=1)\n",
    "numericals.pop(0)"
   ]
  },
  {
   "cell_type": "markdown",
   "id": "1694203d",
   "metadata": {},
   "source": [
    "- Resumo dos dados"
   ]
  },
  {
   "cell_type": "code",
   "execution_count": null,
   "id": "a50d4765",
   "metadata": {},
   "outputs": [],
   "source": [
    "for feature_nn in df[numericals]:\n",
    "    print(feature_nn.center(100, '*'))\n",
    "    print(f'Tipo da variável: {df[feature_nn].dtype}')\n",
    "    print(f'{(sum(df[feature_nn].isna()) / rows_df) * 100:.2f}% das features são missing.')\n",
    "    print(f'Os {sum(~df[feature_nn].isna())} dados, estão distribuidos em {len(df[feature_nn].value_counts())} valores diferentes.\\n')"
   ]
  },
  {
   "cell_type": "markdown",
   "id": "8e5d2bac",
   "metadata": {},
   "source": [
    "- Distribuição dos dados"
   ]
  },
  {
   "cell_type": "code",
   "execution_count": null,
   "id": "38111199",
   "metadata": {},
   "outputs": [],
   "source": [
    "df[numericals].describe()"
   ]
  },
  {
   "cell_type": "code",
   "execution_count": null,
   "id": "e09e7f67",
   "metadata": {},
   "outputs": [],
   "source": [
    "fig, ax = plt.subplots(len(numericals), 2, figsize=(12, 36))\n",
    "\n",
    "for i, col in enumerate(df[numericals].columns):\n",
    "    axes_hist = ax[i][0]\n",
    "    axes_box  = ax[i][1]\n",
    "    sns.histplot(data=df, x=col, ax=axes_hist)\n",
    "    sns.boxplot(x=col, data=df, ax=axes_box)"
   ]
  },
  {
   "cell_type": "markdown",
   "id": "84b1f98b",
   "metadata": {},
   "source": [
    "<font color=red>Alguns Boxplots ficaram concentrados em escalas curtas (próximas de zero). Daremos uma olhada mais afundo à seguir.<font color=red>"
   ]
  },
  {
   "cell_type": "code",
   "execution_count": null,
   "id": "5f66e3b2",
   "metadata": {},
   "outputs": [],
   "source": [
    "for i, col in enumerate(df[numericals].columns):\n",
    "    zeros = df[col].loc[df[col] > 0].count()\n",
    "    print(f'A coluna {col} tem {zeros} ({zeros/df[col].shape[0]*100:.2f}%) amostras diferentes de zero.')"
   ]
  },
  {
   "cell_type": "markdown",
   "id": "f51635f9",
   "metadata": {},
   "source": [
    "- Tratamento de missing values"
   ]
  },
  {
   "cell_type": "code",
   "execution_count": null,
   "id": "ec0404cf",
   "metadata": {},
   "outputs": [],
   "source": [
    "print('Percentual de features vazias:')\n",
    "percent_missing = (df.isnull().sum() / df.shape[0]) * 100\n",
    "percent_missing"
   ]
  },
  {
   "cell_type": "markdown",
   "id": "ace052ad",
   "metadata": {},
   "source": [
    "<font color=red>Como tivemos poucas amostras missing, optarei por remover as mesmas e prosseguir com o PCA e modelo.<font color=red>"
   ]
  },
  {
   "cell_type": "code",
   "execution_count": null,
   "id": "ad99a4f5",
   "metadata": {},
   "outputs": [],
   "source": [
    "# print(f'Quantidade de linhas pré-drop: {df.shape[0]}.')\n",
    "# df = df.dropna()\n",
    "# print(f'Quantidade de linhas pós-drop: {df.shape[0]}.')"
   ]
  },
  {
   "cell_type": "code",
   "execution_count": null,
   "id": "8adf8a89",
   "metadata": {},
   "outputs": [],
   "source": []
  }
 ],
 "metadata": {
  "kernelspec": {
   "display_name": "Python 3 (ipykernel)",
   "language": "python",
   "name": "python3"
  },
  "language_info": {
   "codemirror_mode": {
    "name": "ipython",
    "version": 3
   },
   "file_extension": ".py",
   "mimetype": "text/x-python",
   "name": "python",
   "nbconvert_exporter": "python",
   "pygments_lexer": "ipython3",
   "version": "3.9.7"
  }
 },
 "nbformat": 4,
 "nbformat_minor": 5
}
