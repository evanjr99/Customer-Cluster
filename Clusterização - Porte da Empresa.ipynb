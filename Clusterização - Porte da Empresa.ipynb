{
 "cells": [
  {
   "cell_type": "markdown",
   "id": "74f7252c",
   "metadata": {},
   "source": [
    "# Importar bibliotecas"
   ]
  },
  {
   "cell_type": "code",
   "execution_count": null,
   "id": "06569970",
   "metadata": {},
   "outputs": [],
   "source": [
    "import pandas as pd\n",
    "pd.set_option('display.max_rows', 300)\n",
    "pd.set_option('display.max_columns', 100)\n",
    "pd.set_option('display.float_format', lambda x: '%.3f' % x)# Removendo notações científicas\n",
    "\n",
    "import requests, json\n",
    "from Conexão_Banco_de_Dados_Oracle import conectar_bd\n",
    "from pycep_correios import get_address_from_cep, WebService\n",
    "\n",
    "import matplotlib.pyplot as plt\n",
    "import seaborn as sns\n",
    "import numpy as np\n",
    "np.set_printoptions(suppress=False) # Removendo notações científicas\n",
    "from datetime import datetime\n",
    "from tqdm import tqdm # Barprogress\n",
    "import os\n",
    "\n",
    "# Remover warnings dos kernels\n",
    "import warnings\n",
    "warnings.filterwarnings('ignore')"
   ]
  },
  {
   "cell_type": "markdown",
   "id": "2f67b509",
   "metadata": {},
   "source": [
    "# Conectar ao banco de dados (cursor)"
   ]
  },
  {
   "cell_type": "code",
   "execution_count": null,
   "id": "bbefa61b",
   "metadata": {},
   "outputs": [],
   "source": [
    "conn = conectar_bd()\n",
    "cursor = conn.cursor()"
   ]
  },
  {
   "cell_type": "markdown",
   "id": "3bc2092d",
   "metadata": {},
   "source": [
    "# Extração de dados"
   ]
  },
  {
   "cell_type": "code",
   "execution_count": null,
   "id": "ee7a9817",
   "metadata": {},
   "outputs": [],
   "source": [
    "# Função de extração de dados do CNPJ\n",
    "def _dados_cnpj(cnpj):\n",
    "    return json.loads(requests.get(f'https://thecollector.linkana.com/companies?cnpj=eq.{cnpj}&limit=1%27').text)[0]\n",
    "\n",
    "# Buscando informações de geolocalização\n",
    "def busca_geolocation(cep):\n",
    "    try:\n",
    "        # Ajustar para parametro de pesquisa URL\n",
    "        '''\n",
    "        Obs: Foi acrescentado o replace para Bonfim Paulista pois era uma exceção que estava ocasionando erros \"desenecessários\"\n",
    "        '''\n",
    "        r = lambda x: x.replace('Bonfim Paulista (Ribeirão Preto)', 'Ribeirão Preto').replace(' ', '+')\n",
    "\n",
    "        URL = \"https://nominatim.openstreetmap.org/search?format=json&addressdetails=1&country=$brazil&state=${}&city=${}&limit=1\"\n",
    "        infos = get_address_from_cep(cep, webservice=WebService.CORREIOS)\n",
    "        dados_cep = json.loads(requests.get(URL.format(infos['uf'], r(infos['cidade']))).text)[0]\n",
    "\n",
    "        return (dados_cep['lat'], dados_cep['lon'], dados_cep['importance'], dados_cep['address']['state_district'])\n",
    "    except:\n",
    "        return (np.nan, np.nan, np.nan, np.nan)"
   ]
  },
  {
   "cell_type": "code",
   "execution_count": null,
   "id": "4cf9ede8",
   "metadata": {},
   "outputs": [],
   "source": [
    "# Teste função de geolocalização\n",
    "busca_geolocation('44025930')"
   ]
  },
  {
   "cell_type": "code",
   "execution_count": null,
   "id": "2777ca83",
   "metadata": {},
   "outputs": [],
   "source": [
    "def obter_dados():\n",
    "    # Dados cadastrais\n",
    "    cons_empresas_cadastradas = '''\n",
    "    SELECT \n",
    "        a.CODEMPRESA, a.RAZAOSOCIAL, a.NOMEFANTASIA, \n",
    "        d.CEP, d.NUMCNPJCPF\n",
    "    FROM HINOERP_BIO.GEEMPRESA a\n",
    "        LEFT JOIN HINOERP_BIO.GEEMPRESAPARAMESTAB b\n",
    "            ON a.CODEMPRESA = b.CODEMPRESA\n",
    "        LEFT JOIN HINOERP_BIO.GEENDEMPRESA c\n",
    "            ON a.CODEMPRESA = c.CODEMPRESA\n",
    "        LEFT JOIN HINOERP_BIO.GEENDERECO d\n",
    "            ON c.CODENDERECO = d.CODENDERECO\n",
    "        WHERE TIPOEMPRESA = 'C' AND LENGTH(d.NUMCNPJCPF) = 14\n",
    "    '''\n",
    "    df_empresas_cadastradas = pd.read_sql(cons_empresas_cadastradas, conn)\n",
    "\n",
    "    # Retornando data de cadastro das empresas\n",
    "    cons = '''\n",
    "    SELECT e.DATALOG as DATACADASTRO, PARA AS CODEMPRESA\n",
    "    FROM HINOERP_BIO.GELOG E\n",
    "    LEFT JOIN HINOERP_BIO.GELOGDET b\n",
    "    ON E.CODLOG = b.CODLOG\n",
    "    WHERE TABELA = 'GEEMPRESA' AND CAMPO = 'Cód. Empresa' AND DE IS NULL\n",
    "    '''\n",
    "    datas_cadastros = pd.read_sql(cons, conn)\n",
    "    datas_cadastros['CODEMPRESA'] = datas_cadastros['CODEMPRESA'].astype(int)\n",
    "\n",
    "    # Merge das informações\n",
    "    df_empresas_cadastradas = df_empresas_cadastradas.merge(datas_cadastros, on='CODEMPRESA', how='left')\n",
    "\n",
    "    # Dados financeiros\n",
    "    cons_dados_financeiros = '''\n",
    "    SELECT \n",
    "        e.CODEMPRESA, \n",
    "        SUM(e.VALORORIGINAL) AS TOTALVENDAS, \n",
    "        AVG(e.VALORJUROS) AS MEDIAJUROS, \n",
    "        AVG(e.DATALIQUIDACAO - e.DATAVENCIMENTO) AS DIASATRASO\n",
    "    FROM HINOERP_BIO.FITITULOS e\n",
    "    WHERE e.INDICENFSAIDA IS NOT NULL\n",
    "    GROUP BY CODEMPRESA\n",
    "    '''\n",
    "\n",
    "    df_titulos = pd.read_sql(cons_dados_financeiros, conn)\n",
    "\n",
    "    # Unindo as informações\n",
    "    df = df_empresas_cadastradas.merge(df_titulos, on='CODEMPRESA', how='left').fillna(0)\n",
    "    df.index = [i for i in range(df.shape[0])]\n",
    "\n",
    "    # Criação de um dicionário auxiliar\n",
    "    dict_aux = {\n",
    "        'Data Abertura CNPJ': [],\n",
    "        'Capital Social': [],\n",
    "        'Natureza Jurídica': [],\n",
    "        'Porte': [],\n",
    "        \"CNAE's\": [],\n",
    "        \"Latitude\": [],\n",
    "        \"Longitude\": [],\n",
    "        \"NvlImportanciaGEO\": [],\n",
    "        \"Região\": []\n",
    "    }\n",
    "\n",
    "    # Alimentando o dicionário auxiliar\n",
    "    for i in tqdm(range(df.shape[0])):\n",
    "        dados_consulta_cnpj = _dados_cnpj(df['NUMCNPJCPF'][i])\n",
    "        lat, lon, importance, regiao = busca_geolocation(dados_consulta_cnpj['cep'])\n",
    "\n",
    "        # Dados geolocalização\n",
    "        dict_aux['Latitude'].append(lat)\n",
    "        dict_aux['Longitude'].append(lon)\n",
    "        dict_aux['NvlImportanciaGEO'].append(importance)\n",
    "        dict_aux['Região'].append(regiao)\n",
    "\n",
    "        # Dados CNPJ\n",
    "        dict_aux['Data Abertura CNPJ'].append(dados_consulta_cnpj['data_inicio_atividade'])\n",
    "        dict_aux['Capital Social'].append(str(dados_consulta_cnpj['capital_social'])[:-2])\n",
    "        dict_aux['Natureza Jurídica'].append(dados_consulta_cnpj['natureza_juridica'])\n",
    "        dict_aux['Porte'].append(dados_consulta_cnpj['cod_porte_empresa'])\n",
    "        cnaes = [dados_consulta_cnpj['cnae_fiscal']]\n",
    "        if dados_consulta_cnpj['cnaes_secundarios'] != None:\n",
    "            cnaes = cnaes + dados_consulta_cnpj['cnaes_secundarios']\n",
    "        dict_aux[\"CNAE's\"].append(cnaes)\n",
    "\n",
    "    # Transformando o DF auxiliar em objeto Pandas e concatenando com o DF de infos baixadas\n",
    "    df_aux = pd.DataFrame.from_dict(dict_aux)\n",
    "    df = pd.concat([df, df_aux], axis=1)\n",
    "    \n",
    "    # Salvando o arquivo\n",
    "    df.to_csv(arquivo, sep=';', encoding='ISO-8859-1', index=False)\n",
    "    \n",
    "# Check se existe o arquivo\n",
    "arquivo = 'base_dados.csv'\n",
    "if not (arquivo in os.listdir()):\n",
    "    obter_dados()\n",
    "\n",
    "df = pd.read_csv(arquivo, sep=';', encoding='ISO-8859-1')\n",
    "\n",
    "#Removendo colunas de identificação dos clientes\n",
    "df = df.drop(['RAZAOSOCIAL', 'NOMEFANTASIA', 'NUMCNPJCPF'], axis=1)\n",
    "print('Dataframe lido com sucesso !')"
   ]
  },
  {
   "cell_type": "markdown",
   "id": "7528f029",
   "metadata": {},
   "source": [
    "# EDA - Análise Exploratória de Dados"
   ]
  },
  {
   "cell_type": "markdown",
   "id": "5e3e3bae",
   "metadata": {},
   "source": [
    "- <b> Conhecendo nossos dados."
   ]
  },
  {
   "cell_type": "code",
   "execution_count": null,
   "id": "fe29b094",
   "metadata": {},
   "outputs": [],
   "source": [
    "df.head()"
   ]
  },
  {
   "cell_type": "code",
   "execution_count": null,
   "id": "f8d66607",
   "metadata": {},
   "outputs": [],
   "source": [
    "print(df.shape)\n",
    "df.isnull().sum()"
   ]
  },
  {
   "cell_type": "markdown",
   "id": "dad9aa4e",
   "metadata": {},
   "source": [
    "Resolvi por excluir as amostras com dados missing pelos seguintes motivos:\n",
    "- poucos dados missing;\n",
    "- os dados realmente não estavam disponíveis no sistema de coleta de dados "
   ]
  },
  {
   "cell_type": "code",
   "execution_count": null,
   "id": "7cd505dd",
   "metadata": {},
   "outputs": [],
   "source": [
    "df = df.dropna()\n",
    "df.shape"
   ]
  },
  {
   "cell_type": "markdown",
   "id": "3838eb7d",
   "metadata": {},
   "source": [
    "- <strong>Cardinalidade das variáveis<br><strong>\n",
    "    \n",
    "Esta métrica nos ajuda a entender quão dispostos os valores estão em um conjunto.<br>\n",
    "Sendo assim, uma medida importante pois quanto maior a cardinalidade (maior número de valores únicos), menor será a probabilidade que o modelo consiga generalizar as predições."
   ]
  },
  {
   "cell_type": "code",
   "execution_count": null,
   "id": "269da62e",
   "metadata": {},
   "outputs": [],
   "source": [
    "data = (df.nunique() / df.shape[0]) * 100\n",
    "plt.figure(figsize=(20,4))\n",
    "sns.barplot(x=data.index, y=data.values)\n",
    "plt.xticks(rotation = 45)\n",
    "plt.show()"
   ]
  },
  {
   "cell_type": "markdown",
   "id": "355aa9f9",
   "metadata": {},
   "source": [
    "Agora, iremos tratar as colunas com cardinalidade alta e moderada/alta"
   ]
  },
  {
   "cell_type": "code",
   "execution_count": null,
   "id": "d1ef1d89",
   "metadata": {},
   "outputs": [],
   "source": [
    "baixa_card = data[data <= 25].index\n",
    "mod_baixa_card = data[(data > 25) & (data <= 50)].index\n",
    "mod_alta_card = data[(data > 50) & (data <= 75)].index\n",
    "alta_card = data[data > 75].index"
   ]
  },
  {
   "cell_type": "markdown",
   "id": "87941dde",
   "metadata": {},
   "source": [
    "### Features de cardinalidade moderada/alta"
   ]
  },
  {
   "cell_type": "code",
   "execution_count": null,
   "id": "ad0daf53",
   "metadata": {},
   "outputs": [],
   "source": [
    "display(df[mod_alta_card].head(4))\n",
    "df[mod_alta_card].dtypes"
   ]
  },
  {
   "cell_type": "markdown",
   "id": "acabd67c",
   "metadata": {},
   "source": [
    "- [DATACADASTRO] - Datetime (object)"
   ]
  },
  {
   "cell_type": "code",
   "execution_count": null,
   "id": "af644e1f",
   "metadata": {},
   "outputs": [],
   "source": [
    "df['DATACADASTRO'].value_counts()"
   ]
  },
  {
   "cell_type": "markdown",
   "id": "fb9a05fe",
   "metadata": {},
   "source": [
    "Existe um dado incorreto (0), que será substituido pela data coletada manualmente (ERP).<br>\n",
    "Em seguida, irei substituir esta variávei por uma nova variável correspondente à quantos meses o cliente está cadastrado."
   ]
  },
  {
   "cell_type": "code",
   "execution_count": null,
   "id": "5fa5d431",
   "metadata": {},
   "outputs": [],
   "source": [
    "df['DATACADASTRO'] = df['DATACADASTRO'].replace('0', '2021-01-10 00:00:01')\n",
    "df['DATACADASTRO'] = pd.to_datetime(df['DATACADASTRO'], format='%Y-%m-%d %H:%M:%S')\n",
    "df['MesesAtividade'] = (datetime.today() - df['DATACADASTRO']).dt.days / 30\n",
    "df = df .drop('DATACADASTRO', axis=1)"
   ]
  },
  {
   "attachments": {
    "image.png": {
     "image/png": "[encoded data removed]"
    }
   },
   "cell_type": "markdown",
   "id": "ea28bf61",
   "metadata": {},
   "source": [
    "Ao tratar a variável de vendas apenas como um total, pode ser que acabemos classificando um cliente recente com bom volume de compras no mesmo nicho que um cliente com baixo volume de compras porém a muito mais tempo cadastrado, então, para não penalisar o primeiro, criarei mais uma feature que contará com a média do faturamento mensal desde o cadastro do mesmo. Exemplo:\n",
    "![image.png](attachment:image.png)"
   ]
  },
  {
   "cell_type": "code",
   "execution_count": null,
   "id": "8f24210e",
   "metadata": {},
   "outputs": [],
   "source": [
    "df['ComprasMes'] = df['TOTALVENDAS'] / df['MesesAtividade']\n",
    "total_compras = df['TOTALVENDAS'] # Armazenando caso seja necessário futuramente\n",
    "df = df.drop('TOTALVENDAS', axis=1)\n",
    "mod_alta_card = ['ComprasMes', 'DIASATRASO', 'MesesAtividade']"
   ]
  },
  {
   "cell_type": "code",
   "execution_count": null,
   "id": "d42b5f08",
   "metadata": {},
   "outputs": [],
   "source": [
    "df[mod_alta_card].describe()"
   ]
  },
  {
   "cell_type": "markdown",
   "id": "c31cec3b",
   "metadata": {},
   "source": [
    "- [ComprasMes] - Float"
   ]
  },
  {
   "cell_type": "code",
   "execution_count": null,
   "id": "27abc78e",
   "metadata": {},
   "outputs": [],
   "source": [
    "plt.figure(figsize=(20,4))\n",
    "sns.histplot(df['ComprasMes'][df['ComprasMes'] > df['ComprasMes'].median()], color='orange')\n",
    "plt.xticks(list(range(0,int(df['ComprasMes'].max()),5000)), rotation='45')\n",
    "plt.plot()"
   ]
  },
  {
   "cell_type": "markdown",
   "id": "8148aed4",
   "metadata": {},
   "source": [
    "Vamos dividir a variável (contínua) em classes:\n",
    "- de 0 - 1000\n",
    "- de 1000 - 2000\n",
    "- de 2000 - 5000\n",
    "- de 5000 - 10000\n",
    "- de 10000 - 20000\n",
    "- acima de 20000"
   ]
  },
  {
   "cell_type": "code",
   "execution_count": null,
   "id": "6af7a928",
   "metadata": {},
   "outputs": [],
   "source": [
    "df['ComprasMes'][(df['ComprasMes'] <= 1000)] = 0\n",
    "df['ComprasMes'][(df['ComprasMes'] > 1000) & (df['ComprasMes'] <= 2000)] = 1\n",
    "df['ComprasMes'][(df['ComprasMes'] > 2000) & (df['ComprasMes'] <= 5000)] = 2\n",
    "df['ComprasMes'][(df['ComprasMes'] > 5000) & (df['ComprasMes'] <= 10000)] = 3\n",
    "df['ComprasMes'][(df['ComprasMes'] > 10000) & (df['ComprasMes'] <= 20000)] = 4\n",
    "df['ComprasMes'][(df['ComprasMes'] > 20000)] = 5"
   ]
  },
  {
   "cell_type": "markdown",
   "id": "6fd397a7",
   "metadata": {},
   "source": [
    "- [DIASATRASO] - Float"
   ]
  },
  {
   "cell_type": "code",
   "execution_count": null,
   "id": "963079b4",
   "metadata": {},
   "outputs": [],
   "source": [
    "dias_atraso = pd.DataFrame.from_dict({'Dias': df['DIASATRASO'].value_counts().index, \n",
    "                                      'Qtde': df['DIASATRASO'].value_counts().values}).sort_values('Dias')\n",
    "dias_atraso"
   ]
  },
  {
   "cell_type": "markdown",
   "id": "8373ac42",
   "metadata": {},
   "source": [
    "Para esta variável, decidimos por classificar da seguinte forma:\n",
    "- paga com antecedência: < que -1 dia\n",
    "- paga em dia: > -1 dia < 3 dias (caso o titulo caia em fim de semana)\n",
    "- paga com um pequeno atraso: > 3 dias < 6 dias\n",
    "- paga com atraso recorrente: > 6 dias"
   ]
  },
  {
   "cell_type": "code",
   "execution_count": null,
   "id": "2602b25a",
   "metadata": {},
   "outputs": [],
   "source": [
    "df['DIASATRASO'][(df['DIASATRASO'] <= -1)] = 0\n",
    "df['DIASATRASO'][(df['DIASATRASO'] > -1) & (df['DIASATRASO'] <= 3)] = 1\n",
    "df['DIASATRASO'][(df['DIASATRASO'] > 3) & (df['DIASATRASO'] <= 6)] = 2\n",
    "df['DIASATRASO'][(df['DIASATRASO'] > 6)] = 3"
   ]
  },
  {
   "cell_type": "markdown",
   "id": "3ba4e548",
   "metadata": {},
   "source": [
    "- [MesesAtividade] - Float"
   ]
  },
  {
   "cell_type": "code",
   "execution_count": null,
   "id": "96a3fd67",
   "metadata": {
    "scrolled": false
   },
   "outputs": [],
   "source": [
    "plt.figure(figsize=(20,4))\n",
    "sns.distplot(df['MesesAtividade'], color='orange')\n",
    "plt.show()"
   ]
  },
  {
   "cell_type": "markdown",
   "id": "d8f491d6",
   "metadata": {},
   "source": [
    "As amostras desta variável ficarão dispostas em classes de 6 em 6 meses."
   ]
  },
  {
   "cell_type": "code",
   "execution_count": null,
   "id": "f484fb91",
   "metadata": {},
   "outputs": [],
   "source": [
    "m_inicial = 0\n",
    "m_final = 6\n",
    "\n",
    "for i in range(np.ceil(df['MesesAtividade'].max()/6).astype(int)):\n",
    "    df['MesesAtividade'][(df['MesesAtividade'] > m_inicial) & (df['MesesAtividade'] <= m_final)] = i\n",
    "    print(f'Faixa {i} - De {m_inicial} a {m_final} meses.')\n",
    "    m_inicial += 6\n",
    "    m_final += 6"
   ]
  },
  {
   "cell_type": "markdown",
   "id": "d5edba84",
   "metadata": {},
   "source": [
    "### Features de cardinalidade alta"
   ]
  },
  {
   "cell_type": "code",
   "execution_count": null,
   "id": "78a90047",
   "metadata": {
    "scrolled": false
   },
   "outputs": [],
   "source": [
    "display(df[alta_card].head(4))\n",
    "df[alta_card].dtypes"
   ]
  },
  {
   "cell_type": "markdown",
   "id": "223bc24f",
   "metadata": {},
   "source": [
    "- [CODEMPRESA, CEP] - Int\n",
    "\n",
    "Iremos remover estas colunas por apenas se tratarem de identificadores, sem nenhum valor para nosso modelo."
   ]
  },
  {
   "cell_type": "code",
   "execution_count": null,
   "id": "7cbb6fbe",
   "metadata": {},
   "outputs": [],
   "source": [
    "df = df.drop(['CODEMPRESA', 'CEP'], axis=1)"
   ]
  },
  {
   "cell_type": "markdown",
   "id": "12b9858c",
   "metadata": {},
   "source": [
    "- [Data Abertura CNPJ] - Datetime (object)\n",
    "\n",
    "Trataremos esta da mesma maneira que tratamos a feature de cadastro anteriormente porém, abordando em anos ao invés de meses."
   ]
  },
  {
   "cell_type": "code",
   "execution_count": null,
   "id": "46d1334f",
   "metadata": {},
   "outputs": [],
   "source": [
    "df['Data Abertura CNPJ'] = pd.to_datetime(df['Data Abertura CNPJ'], format='%Y-%m-%d %H:%M:%S')\n",
    "df['AnosExistencia'] = (datetime.today() - df['Data Abertura CNPJ']).dt.days / 365\n",
    "df = df.drop('Data Abertura CNPJ', axis=1)"
   ]
  },
  {
   "cell_type": "code",
   "execution_count": null,
   "id": "005aaa66",
   "metadata": {},
   "outputs": [],
   "source": [
    "plt.figure(figsize=(20,4))\n",
    "sns.distplot(df['AnosExistencia'], color='orange')\n",
    "plt.xticks(list(range(0, int(df['AnosExistencia'].max()), 10)))\n",
    "plt.show()\n",
    "df['AnosExistencia'].describe()"
   ]
  },
  {
   "cell_type": "markdown",
   "id": "48566a02",
   "metadata": {},
   "source": [
    "Ao invés de classificar os dados em faixas, iremos de inicio tentar trabalhar com os dados transformando seus valores em inteiros. Caso necessite futuramente, deixarei esta variável salva."
   ]
  },
  {
   "cell_type": "code",
   "execution_count": null,
   "id": "d39ade5a",
   "metadata": {},
   "outputs": [],
   "source": [
    "df['AnosExistencia'] = df['AnosExistencia'].astype(int)"
   ]
  },
  {
   "cell_type": "markdown",
   "id": "962e4329",
   "metadata": {},
   "source": [
    "- [CNAE's] - List (object)\n",
    "\n",
    "Como esta variável conta com uma lista de CNAE's (classificação de atividade economica), teremos que explodir estas listas para por fim criar uma nova coluna para cada um destes valores (encoding)."
   ]
  },
  {
   "cell_type": "code",
   "execution_count": null,
   "id": "e69e61f2",
   "metadata": {},
   "outputs": [],
   "source": [
    "from ast import literal_eval\n",
    "df[\"CNAE's\"] = df[\"CNAE's\"].apply(literal_eval) # Transforma em listas, algo como o astype\n",
    "\n",
    "dummies_cnaes = pd.get_dummies(df[\"CNAE's\"].explode())\n",
    "dummies_cnaes = dummies_cnaes[~dummies_cnaes.index.duplicated(keep='first')]\n",
    "\n",
    "df = df.drop(\"CNAE's\", axis=1)\n",
    "df = pd.concat([df, dummies_cnaes], axis=1)"
   ]
  },
  {
   "cell_type": "code",
   "execution_count": null,
   "id": "3a58aa11",
   "metadata": {},
   "outputs": [],
   "source": [
    "cols_originais = df.columns[~df.columns.isin(dummies_cnaes)]\n",
    "cols_originais"
   ]
  },
  {
   "cell_type": "markdown",
   "id": "1d900d92",
   "metadata": {},
   "source": [
    "<font color=purple>Feitas estas etapas, podemos partir para a análise das features com baixa cardinalidade, onde inicialmente não iremos alterar suas estruturas.<font color=purple>"
   ]
  },
  {
   "cell_type": "markdown",
   "id": "d6fb67ee",
   "metadata": {},
   "source": [
    "### Features de cardinalidade moderada/baixa"
   ]
  },
  {
   "cell_type": "code",
   "execution_count": null,
   "id": "f573c154",
   "metadata": {
    "scrolled": true
   },
   "outputs": [],
   "source": [
    "display(df[mod_baixa_card].head(4))\n",
    "df[mod_baixa_card].dtypes"
   ]
  },
  {
   "cell_type": "markdown",
   "id": "08ea7293",
   "metadata": {},
   "source": [
    "Como estas estão distribuidas em floats, optaremos por não realizar nenhum tratamento agora, e caso necessite futuramente podemos classificar os valores em faixas conforme feito anteriormente. "
   ]
  },
  {
   "cell_type": "markdown",
   "id": "8f990a86",
   "metadata": {},
   "source": [
    "### Features de cardinalidade baixa"
   ]
  },
  {
   "cell_type": "code",
   "execution_count": null,
   "id": "39c82745",
   "metadata": {},
   "outputs": [],
   "source": [
    "display(df[baixa_card].head(4))\n",
    "df[baixa_card].dtypes"
   ]
  },
  {
   "cell_type": "markdown",
   "id": "86a0bf82",
   "metadata": {},
   "source": [
    "- [Natureza Jurídica] - Object"
   ]
  },
  {
   "cell_type": "code",
   "execution_count": null,
   "id": "ef9c996f",
   "metadata": {},
   "outputs": [],
   "source": [
    "plt.figure()\n",
    "sns.histplot(x=df['Natureza Jurídica'])\n",
    "plt.xticks(rotation='90')\n",
    "plt.plot()"
   ]
  },
  {
   "cell_type": "markdown",
   "id": "55ae6ebe",
   "metadata": {},
   "source": [
    "Como temos grande parte dos dados dispostos na mesma classe e esta não é uma variável que pode agregar tanto valor ao modelo, decidimos por excluíla."
   ]
  },
  {
   "cell_type": "code",
   "execution_count": null,
   "id": "0d04da7c",
   "metadata": {},
   "outputs": [],
   "source": [
    "df = df.drop('Natureza Jurídica', axis=1)"
   ]
  },
  {
   "cell_type": "markdown",
   "id": "0ed2ac8b",
   "metadata": {},
   "source": [
    "Também não iremos realizar nenhum trabalho encima das outras features int e float no momento."
   ]
  },
  {
   "cell_type": "markdown",
   "id": "46896f0c",
   "metadata": {},
   "source": [
    "- [Região] - Object"
   ]
  },
  {
   "cell_type": "code",
   "execution_count": null,
   "id": "0625e8a3",
   "metadata": {},
   "outputs": [],
   "source": [
    "plt.figure()\n",
    "sns.histplot(x=df['Região'])\n",
    "plt.xticks(rotation='90')\n",
    "plt.plot()"
   ]
  },
  {
   "cell_type": "markdown",
   "id": "16221278",
   "metadata": {},
   "source": [
    "Iremos realizar o mesmo trabalho feito na feature CNAE's, realizando o encoding das mesmas."
   ]
  },
  {
   "cell_type": "code",
   "execution_count": null,
   "id": "f1bc30f2",
   "metadata": {},
   "outputs": [],
   "source": [
    "dummies_região = pd.get_dummies(df['Região'])\n",
    "df = df.drop('Região', axis=1)\n",
    "df = pd.concat([df, dummies_região], axis=1)"
   ]
  },
  {
   "cell_type": "markdown",
   "id": "ba099840",
   "metadata": {},
   "source": [
    "### Última análise antes da criação do modelo"
   ]
  },
  {
   "cell_type": "code",
   "execution_count": null,
   "id": "c3dadc84",
   "metadata": {},
   "outputs": [],
   "source": [
    "print(df.shape)\n",
    "df.head()"
   ]
  },
  {
   "cell_type": "code",
   "execution_count": null,
   "id": "89481c76",
   "metadata": {},
   "outputs": [],
   "source": [
    "plt.figure(figsize=(10,8))\n",
    "sns.heatmap(df[df.columns[~(df.columns.isin(dummies_cnaes)) & ~(df.columns.isin(dummies_região))]].corr(), annot=True, \n",
    "            vmin=-1)\n",
    "plt.plot()"
   ]
  },
  {
   "cell_type": "markdown",
   "id": "afc727bb",
   "metadata": {},
   "source": [
    "Por conta da média-alta correlação entre DIASATRASO E MEDIAJUROS, iremos remover a coluna que ainda não foi tratada (MEDIAJUROS)."
   ]
  },
  {
   "cell_type": "code",
   "execution_count": null,
   "id": "ac7b36f4",
   "metadata": {},
   "outputs": [],
   "source": [
    "mediajuros = df['MEDIAJUROS']\n",
    "df = df.drop(['MEDIAJUROS'], axis=1)"
   ]
  },
  {
   "attachments": {
    "image.png": {
     "image/png": "[encoded data removed]"
    }
   },
   "cell_type": "markdown",
   "id": "c102ed48",
   "metadata": {},
   "source": [
    "### Elbow Method\n",
    "\n",
    "Esta é uma etapa onde iremos encontrar o melhor número de centróides para nossas amostras. Em outras palavras, iremos descobrir quantas categorias de clientes teremos.<br>\n",
    "O Método consiste em encontrar um ponto em que a distorção diminui deixa de trazer uma melhora considerada:<br>\n",
    "![image.png](attachment:image.png)\n",
    "No exemplo acima, o cotovelo da curva se encontra no ponto em que o número de cluster corresponde à 3.<br>\n",
    "<font color=red>*distorção - mede a distância entre as amostras com relação ao seu cluster<font color=red>"
   ]
  },
  {
   "cell_type": "code",
   "execution_count": null,
   "id": "c15e4afa",
   "metadata": {},
   "outputs": [],
   "source": [
    "from sklearn.cluster import KMeans\n",
    "from yellowbrick.cluster import KElbowVisualizer\n",
    "from sklearn.metrics import silhouette_score\n",
    "\n",
    "def _validar_cluster(range_i, range_f, dados_entrada):\n",
    "    K = range(range_i, range_f)\n",
    "    wcss = []\n",
    "    for n_clusters in K:\n",
    "        clusterer = KMeans(n_clusters=n_clusters, random_state=7, init='k-means++', max_iter=1000)\n",
    "        preds = clusterer.fit_predict(dados_entrada)\n",
    "        centers = clusterer.cluster_centers_\n",
    "        wcss.append(clusterer.inertia_)\n",
    "    \n",
    "    chart = sns.lineplot(K, wcss)\n",
    "    \n",
    "def _silhouette(n_clusters, dados_entrada):\n",
    "    clusterer = KMeans(n_clusters=n_clusters, random_state=7, init='k-means++', max_iter=1000)\n",
    "    preds = clusterer.fit_predict(dados_entrada)\n",
    "    \n",
    "    print(f'Silhouette_score: {silhouette_score(dados_entrada, preds)}')"
   ]
  },
  {
   "cell_type": "markdown",
   "id": "eb99b634",
   "metadata": {},
   "source": [
    "- <strong>Validar modelo<strong>\n",
    "    \n",
    "Iremos verificar como se comportam as clusterizações em um range de 2 a 10 clusters."
   ]
  },
  {
   "cell_type": "code",
   "execution_count": null,
   "id": "1fd368c7",
   "metadata": {},
   "outputs": [],
   "source": [
    "_validar_cluster(2, 15, df)"
   ]
  },
  {
   "cell_type": "markdown",
   "id": "8b3403f5",
   "metadata": {},
   "source": [
    "Decidimos por criar o modelo com 6 clusters diferentes, levando em consideração a metodologia do cotovelo conforme citado anteriormente, sendo assim o ponto onde o declínio de performance é perceptível."
   ]
  },
  {
   "cell_type": "code",
   "execution_count": null,
   "id": "a132889c",
   "metadata": {},
   "outputs": [],
   "source": [
    "n_clusters = 6\n",
    "_silhouette(n_clusters, df)"
   ]
  },
  {
   "cell_type": "code",
   "execution_count": null,
   "id": "52016e65",
   "metadata": {},
   "outputs": [],
   "source": [
    "modelo = KMeans(n_clusters=n_clusters).fit(df)\n",
    "predicoes = modelo.predict(df)\n",
    "df['Predições'] = predicoes"
   ]
  },
  {
   "cell_type": "markdown",
   "id": "6f0722ff",
   "metadata": {},
   "source": [
    "- Análise das variáveis vs predição"
   ]
  },
  {
   "cell_type": "code",
   "execution_count": null,
   "id": "19af144e",
   "metadata": {},
   "outputs": [],
   "source": [
    "plt.figure()\n",
    "sns.scatterplot(df['Predições'], df['ComprasMes'])\n",
    "plt.xticks(list(range(0, n_clusters, 1)))\n",
    "plt.show()\n",
    "\n",
    "plt.figure()\n",
    "sns.scatterplot(df['Predições'], df['Capital Social'])\n",
    "plt.xticks(list(range(0, n_clusters, 1)))\n",
    "plt.show()"
   ]
  },
  {
   "cell_type": "markdown",
   "id": "66e1b7bc",
   "metadata": {},
   "source": [
    "### Ajuste de dados"
   ]
  },
  {
   "cell_type": "markdown",
   "id": "cf79136e",
   "metadata": {},
   "source": [
    "Utilizei as duas variáveis acima para validar um bom cluster, utilizaremos duas <strong>***********a******************asadassadsdadsd*******asdasd<strong>\n",
    "\n",
    "Para tentar dar um peso maior às variáveis correspondentes a vendas, decidi por retornar a variável TOTALVENDAS e criar uma nova variável que diz respeito à se o cliente já comprou ou não."
   ]
  },
  {
   "cell_type": "code",
   "execution_count": null,
   "id": "813c2b0f",
   "metadata": {},
   "outputs": [],
   "source": [
    "df = pd.concat([df, total_compras], axis=1)\n",
    "df['Capital Social'] = df['Capital Social'].apply(lambda x: int(x / 10000) * 1)\n",
    "\n",
    "df['ClienteComprou'] = df['ComprasMes'].apply(lambda x: 0 if x == 0 else 1)"
   ]
  },
  {
   "cell_type": "markdown",
   "id": "d88a47a3",
   "metadata": {},
   "source": [
    "### Revalidando o modelo"
   ]
  },
  {
   "cell_type": "code",
   "execution_count": null,
   "id": "8f00fdde",
   "metadata": {},
   "outputs": [],
   "source": [
    "_validar_cluster(2, 15, df)"
   ]
  },
  {
   "cell_type": "code",
   "execution_count": null,
   "id": "ef57f39f",
   "metadata": {},
   "outputs": [],
   "source": [
    "n_clusters = 5\n",
    "_silhouette(n_clusters, df)"
   ]
  },
  {
   "cell_type": "code",
   "execution_count": null,
   "id": "82f1776b",
   "metadata": {},
   "outputs": [],
   "source": [
    "modelo = KMeans(n_clusters=n_clusters).fit(df)\n",
    "predicoes = modelo.predict(df)\n",
    "df['Predições'] = predicoes\n",
    "\n",
    "plt.figure()\n",
    "sns.scatterplot(df['Predições'], df['ComprasMes'])\n",
    "plt.xticks(list(range(0, n_clusters, 1)))\n",
    "plt.show()\n",
    "\n",
    "plt.figure()\n",
    "sns.scatterplot(df['Predições'], df['Capital Social'])\n",
    "plt.xticks(list(range(0, n_clusters, 1)))\n",
    "plt.show()"
   ]
  },
  {
   "cell_type": "markdown",
   "id": "f7ea5c17",
   "metadata": {},
   "source": [
    "Agora podemos ver claramente uma classificação muito mais forte na variável ComprasMes que antes."
   ]
  },
  {
   "cell_type": "markdown",
   "id": "1c748932",
   "metadata": {},
   "source": [
    "Além disso, foi solicitado que o responsável do setor de vendas verificasse os clusters, se realmente fazia sentido, onde o mesmo retornou com um seguinte feedback positivo."
   ]
  },
  {
   "cell_type": "code",
   "execution_count": null,
   "id": "19ed4264",
   "metadata": {},
   "outputs": [],
   "source": [
    "pd.concat([pd.read_csv(arquivo, encoding='ISO-8859-1', sep=';')['RAZAOSOCIAL'], df], axis=1).to_excel('teste.xlsx', index=False)"
   ]
  }
 ],
 "metadata": {
  "kernelspec": {
   "display_name": "Python 3 (ipykernel)",
   "language": "python",
   "name": "python3"
  },
  "language_info": {
   "codemirror_mode": {
    "name": "ipython",
    "version": 3
   },
   "file_extension": ".py",
   "mimetype": "text/x-python",
   "name": "python",
   "nbconvert_exporter": "python",
   "pygments_lexer": "ipython3",
   "version": "3.9.7"
  }
 },
 "nbformat": 4,
 "nbformat_minor": 5
}
